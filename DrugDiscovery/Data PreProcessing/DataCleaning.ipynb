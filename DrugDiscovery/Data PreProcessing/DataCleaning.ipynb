{
 "cells": [
  {
   "cell_type": "code",
   "execution_count": 8,
   "id": "c9219061",
   "metadata": {},
   "outputs": [],
   "source": [
    "import pandas as pd\n"
   ]
  },
  {
   "cell_type": "code",
   "execution_count": 9,
   "id": "00dcc6ad",
   "metadata": {},
   "outputs": [],
   "source": [
    "drug_predictions_df = pd.read_csv(\"../Data/drug_predictions.csv\")"
   ]
  },
  {
   "cell_type": "code",
   "execution_count": 10,
   "id": "ae27aba3",
   "metadata": {},
   "outputs": [
    {
     "data": {
      "text/plain": [
       "<bound method NDFrame.head of                Drug name  Drug ID Drug target   Target Pathway Feature Name  \\\n",
       "0           Camptothecin     1003        TOP1  DNA replication   ARID1A_mut   \n",
       "1           Camptothecin     1003        TOP1  DNA replication     EGFR_mut   \n",
       "2           Camptothecin     1003        TOP1  DNA replication      KDR_mut   \n",
       "3           Camptothecin     1003        TOP1  DNA replication     KRAS_mut   \n",
       "4           Camptothecin     1003        TOP1  DNA replication      MGA_mut   \n",
       "...                  ...      ...         ...              ...          ...   \n",
       "10772  N-acetyl cysteine     2499  Metabolism       Metabolism    cnaLUAD29   \n",
       "10773  N-acetyl cysteine     2499  Metabolism       Metabolism    cnaLUAD30   \n",
       "10774  N-acetyl cysteine     2499  Metabolism       Metabolism    cnaLUAD31   \n",
       "10775  N-acetyl cysteine     2499  Metabolism       Metabolism    cnaLUAD34   \n",
       "10776  N-acetyl cysteine     2499  Metabolism       Metabolism    cnaLUAD35   \n",
       "\n",
       "       n_feature_pos  n_feature_neg  ic50_effect_size  log_ic50_mean_pos  \\\n",
       "0                  4             58          0.177968          -1.315282   \n",
       "1                  6             56          0.352381          -1.089806   \n",
       "2                  3             59          0.892665          -2.816777   \n",
       "3                 21             41          0.151599          -1.715088   \n",
       "4                  3             59          0.154535          -1.344328   \n",
       "...              ...            ...               ...                ...   \n",
       "10772              6             45          0.005450          10.357446   \n",
       "10773              7             44          0.291316          10.118960   \n",
       "10774              4             47          0.018061          10.345936   \n",
       "10775             14             37          0.005650          10.366109   \n",
       "10776              3             48          0.283550          10.103179   \n",
       "\n",
       "       log_ic50_mean_neg  ...  feature_ic50_t_pval  feature_delta_mean_ic50  \\\n",
       "0              -1.582200  ...             0.619798                 0.266918   \n",
       "1              -1.615891  ...             0.275493                 0.526086   \n",
       "2              -1.501329  ...             0.244384                -1.315448   \n",
       "3              -1.488096  ...             0.578186                -0.226992   \n",
       "4              -1.576200  ...             0.831132                 0.231871   \n",
       "...                  ...  ...                  ...                      ...   \n",
       "10772          10.362746  ...             0.991185                -0.005300   \n",
       "10773          10.400808  ...             0.554508                -0.281847   \n",
       "10774          10.363500  ...             0.984215                -0.017565   \n",
       "10775          10.360614  ...             0.984112                 0.005495   \n",
       "10776          10.378307  ...             0.224009                -0.275128   \n",
       "\n",
       "       feature_pos_ic50_var  feature_neg_ic50_var  feature_pval  tissue_pval  \\\n",
       "0                  0.915196              1.524385      0.731853          NaN   \n",
       "1                  0.979272              1.531122      0.415278          NaN   \n",
       "2                  1.412511              1.475681      0.136733          NaN   \n",
       "3                  1.520449              1.485617      0.574221          NaN   \n",
       "4                  1.639422              1.495420      0.794904          NaN   \n",
       "...                     ...                   ...           ...          ...   \n",
       "10772              1.072323              0.960549      0.990046          NaN   \n",
       "10773              1.144461              0.940161      0.477449          NaN   \n",
       "10774              1.620733              0.914436      0.972479          NaN   \n",
       "10775              0.806065              1.026041      0.985707          NaN   \n",
       "10776              0.258410              0.989294      0.635866          NaN   \n",
       "\n",
       "       msi_pval        fdr  Tissue Type  Screening Set  \n",
       "0           NaN  64.451676         LUAD          GDSC2  \n",
       "1           NaN  58.515614         LUAD          GDSC2  \n",
       "2           NaN  44.216235         LUAD          GDSC2  \n",
       "3           NaN  59.402146         LUAD          GDSC2  \n",
       "4           NaN  64.451676         LUAD          GDSC2  \n",
       "...         ...        ...          ...            ...  \n",
       "10772       NaN  99.004592         LUAD          GDSC2  \n",
       "10773       NaN  93.983157         LUAD          GDSC2  \n",
       "10774       NaN  99.004592         LUAD          GDSC2  \n",
       "10775       NaN  99.004592         LUAD          GDSC2  \n",
       "10776       NaN  93.983157         LUAD          GDSC2  \n",
       "\n",
       "[10777 rows x 22 columns]>"
      ]
     },
     "execution_count": 10,
     "metadata": {},
     "output_type": "execute_result"
    }
   ],
   "source": [
    "drug_predictions_df.head\n"
   ]
  },
  {
   "cell_type": "code",
   "execution_count": 11,
   "id": "f3f1c44e",
   "metadata": {},
   "outputs": [
    {
     "data": {
      "text/plain": [
       "(10777, 22)"
      ]
     },
     "execution_count": 11,
     "metadata": {},
     "output_type": "execute_result"
    }
   ],
   "source": [
    "drug_predictions_df.shape"
   ]
  },
  {
   "cell_type": "code",
   "execution_count": 12,
   "id": "a03091f9",
   "metadata": {},
   "outputs": [],
   "source": [
    "drug_predictions_df.columns = drug_predictions_df.columns.str.strip().str.lower().str.replace(\" \", \"_\")\n"
   ]
  },
  {
   "cell_type": "code",
   "execution_count": 13,
   "id": "0f42a181",
   "metadata": {},
   "outputs": [],
   "source": [
    " drug_predictions_df.to_csv('cleaned_data.csv', index=False)\n"
   ]
  },
  {
   "cell_type": "code",
   "execution_count": null,
   "id": "e01c5134",
   "metadata": {},
   "outputs": [],
   "source": []
  }
 ],
 "metadata": {
  "kernelspec": {
   "display_name": "Python 3",
   "language": "python",
   "name": "python3"
  },
  "language_info": {
   "codemirror_mode": {
    "name": "ipython",
    "version": 3
   },
   "file_extension": ".py",
   "mimetype": "text/x-python",
   "name": "python",
   "nbconvert_exporter": "python",
   "pygments_lexer": "ipython3",
   "version": "3.12.8"
  }
 },
 "nbformat": 4,
 "nbformat_minor": 5
}
