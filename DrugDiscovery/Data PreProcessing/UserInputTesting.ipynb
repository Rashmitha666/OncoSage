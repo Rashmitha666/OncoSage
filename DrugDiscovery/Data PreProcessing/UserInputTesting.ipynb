{
 "cells": [
  {
   "cell_type": "code",
   "execution_count": 61,
   "id": "afbcae2a",
   "metadata": {},
   "outputs": [],
   "source": [
    "import joblib\n",
    "import pandas as pd\n",
    "from sklearn.preprocessing import LabelEncoder\n"
   ]
  },
  {
   "cell_type": "code",
   "execution_count": 62,
   "id": "da810f78",
   "metadata": {},
   "outputs": [],
   "source": [
    "model = joblib.load(\"drug_model.pkl\")\n"
   ]
  },
  {
   "cell_type": "code",
   "execution_count": 63,
   "id": "8eada38d",
   "metadata": {},
   "outputs": [],
   "source": [
    "user_df = pd.read_csv(\"../Data/user_input.csv\")\n"
   ]
  },
  {
   "cell_type": "code",
   "execution_count": 64,
   "id": "f5b22208",
   "metadata": {},
   "outputs": [
    {
     "name": "stdout",
     "output_type": "stream",
     "text": [
      "Recommended drug: Nilotinib\n"
     ]
    }
   ],
   "source": [
    "le_drug_name = joblib.load(\"le_drug_name.pkl\")\n",
    "\n",
    "for col in [\"drug_target\", \"target_pathway\", \"feature_name\", \"tissue_type\", \"screening_set\"]:\n",
    "    le = joblib.load(f\"le_{col}.pkl\")\n",
    "    user_df[col] = le.fit_transform(user_df[col])\n",
    "    \n",
    "predicted_class = model.predict(user_df)[0]\n",
    "predicted_drug = le_drug_name.inverse_transform([predicted_class])[0]\n",
    "print(f\"Recommended drug: {predicted_drug}\")\n",
    "\n"
   ]
  },
  {
   "cell_type": "code",
   "execution_count": null,
   "id": "03b79d6a",
   "metadata": {},
   "outputs": [],
   "source": []
  }
 ],
 "metadata": {
  "kernelspec": {
   "display_name": "Python 3",
   "language": "python",
   "name": "python3"
  },
  "language_info": {
   "codemirror_mode": {
    "name": "ipython",
    "version": 3
   },
   "file_extension": ".py",
   "mimetype": "text/x-python",
   "name": "python",
   "nbconvert_exporter": "python",
   "pygments_lexer": "ipython3",
   "version": "3.12.8"
  }
 },
 "nbformat": 4,
 "nbformat_minor": 5
}
