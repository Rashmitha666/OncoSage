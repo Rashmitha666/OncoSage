{
 "cells": [
  {
   "cell_type": "code",
   "execution_count": 1,
   "id": "afbcae2a",
   "metadata": {},
   "outputs": [],
   "source": [
    "import joblib\n",
    "import pandas as pd\n",
    "import numpy as np"
   ]
  },
  {
   "cell_type": "code",
   "execution_count": 2,
   "id": "da810f78",
   "metadata": {},
   "outputs": [],
   "source": [
    "model = joblib.load(\"drug_response_model.pkl\")\n",
    "encoder = joblib.load(\"feature_encoder.pkl\")\n"
   ]
  },
  {
   "cell_type": "code",
   "execution_count": 3,
   "id": "8eada38d",
   "metadata": {},
   "outputs": [],
   "source": [
    "df = pd.read_csv(\"../Data/cleaned_data.csv\")\n"
   ]
  },
  {
   "cell_type": "code",
   "execution_count": 7,
   "id": "92fc083e",
   "metadata": {},
   "outputs": [
    {
     "name": "stdout",
     "output_type": "stream",
     "text": [
      "Drug: Camptothecin\n",
      "Multiple matching drug names found: ['Camptothecin' 'Irinotecan' 'SN-38' 'Topotecan' 'LMP744']\n",
      "Predicted IC50 effect size: 0.17233069241046906\n"
     ]
    }
   ],
   "source": [
    "user_df = pd.read_csv('../Data/user_input2.csv')\n",
    "\n",
    "key_cols = ['drug_target', 'target_pathway', 'feature_name']\n",
    "matched_rows = df.copy()\n",
    "\n",
    "for col in key_cols:\n",
    "    matched_rows = matched_rows[matched_rows[col] == user_df.at[0, col]]\n",
    "\n",
    "matched_drug_names = matched_rows['drug_name'].unique()\n",
    "\n",
    "categorical_cols = ['drug_target', 'target_pathway', 'feature_name', 'tissue_type', 'screening_set']\n",
    "numeric_cols = [col for col in user_df.columns if col not in categorical_cols]\n",
    "\n",
    "# ✅ Ensure proper format\n",
    "user_df[categorical_cols] = user_df[categorical_cols].fillna(\"missing\").astype(str)\n",
    "\n",
    "X_cat_user = encoder.transform(user_df[categorical_cols])\n",
    "X_num_user = user_df[numeric_cols].to_numpy()\n",
    "X_user = np.hstack((X_cat_user, X_num_user))\n",
    "\n",
    "predicted_ic50 = model.predict(X_user)[0]\n",
    "\n",
    "if len(matched_drug_names) == 0:\n",
    "    print(\"No matching drug name found for the given input.\")\n",
    "elif len(matched_drug_names) == 1:\n",
    "    print(f\"Drug: {matched_drug_names[0]}, Predicted IC50 effect size: {predicted_ic50}\")\n",
    "else:\n",
    "    print(f\"Drug: {matched_drug_names[0]}\")\n",
    "    print(f\"Multiple matching drug names found: {matched_drug_names}\")\n",
    "    print(f\"Predicted IC50 effect size: {predicted_ic50}\")\n"
   ]
  },
  {
   "cell_type": "code",
   "execution_count": 5,
   "id": "641778fe",
   "metadata": {},
   "outputs": [
    {
     "name": "stdout",
     "output_type": "stream",
     "text": [
      "['Camptothecin' 'Vinblastine' 'Cisplatin' 'Cytarabine' 'Docetaxel'\n",
      " 'Methotrexate' 'Tretinoin' 'Gefitinib' 'Navitoclax' 'Vorinostat'\n",
      " 'Nilotinib' 'Refametinib' 'Temsirolimus' 'Olaparib' 'Veliparib'\n",
      " 'Bosutinib' 'Lenalidomide' 'Axitinib' 'AZD7762' 'GW441756' 'Lestaurtinib'\n",
      " 'SB216763' 'Tanespimycin' 'Motesanib' 'KU-55933' 'Elesclomol' 'Afatinib'\n",
      " 'Vismodegib' 'Staurosporine' 'PLX-4720' 'BX795' 'NU7441' 'SL0101'\n",
      " 'Doramapimod' 'JNK Inhibitor VIII' 'Wee1 Inhibitor' 'Nutlin-3a (-)'\n",
      " 'Mirin' 'PD173074' 'ZM447439' 'Alisertib' 'RO-3306' 'MK-2206'\n",
      " 'Palbociclib' 'Dactolisib' 'Pictilisib' 'AZD8055' 'PD0325901' 'SB590885'\n",
      " 'Selumetinib' 'CCT007093' 'Obatoclax Mesylate' 'EHT-1864' 'Avagacestat'\n",
      " '5-Fluorouracil' 'Dasatinib' 'Paclitaxel' 'Crizotinib' 'Rapamycin'\n",
      " 'Sorafenib' 'BI-2536' 'Irinotecan' 'Oxaliplatin' 'BMS-536924'\n",
      " 'GSK1904529A' 'Tozasertib' 'PF-4708671' 'PRIMA-1MET' 'Serdemetan' 'TW 37'\n",
      " 'Erlotinib' 'CCT-018159' 'Rucaparib' 'Niraparib' 'MK-1775' 'Dinaciclib'\n",
      " 'Gemcitabine' 'Bortezomib' 'GSK269962A' 'SB505124' 'Tamoxifen'\n",
      " 'Fulvestrant' 'EPZ004777' 'YK-4-279' 'Piperlongumine' 'Daporinad'\n",
      " 'BMS-345541' 'AZ960' 'Talazoparib' 'XAV939' 'Trametinib' 'Dabrafenib'\n",
      " 'Temozolomide' 'Bleomycin (50 uM)' 'AZD5438' 'IAP_5620' 'AZD2014'\n",
      " 'AZD1208' 'AZD1332' 'SN-38' 'Bicalutamide' 'Ruxolitinib' 'Linsitinib'\n",
      " 'Epirubicin' 'Cyclophosphamide' 'Pevonedistat' 'Sapitinib' 'Uprosertib'\n",
      " 'LCL161' 'Lapatinib' 'Luminespib' 'Alpelisib' 'Taselisib' 'EPZ5676'\n",
      " 'SCH772984' 'IWP-2' 'Leflunomide' 'GSK2801' 'Bromosporine' 'SGC-CBP30'\n",
      " 'GSK-LSD1' 'BDOCA000347a' 'BDF00022089a' 'BDILV000379a' 'Entinostat'\n",
      " 'OSI-027' 'LGK974' 'VE-822' 'WZ4003' 'CZC24832' 'AZD5582' 'GSK2606414'\n",
      " 'PFI3' 'PCI-34051' 'Wnt-C59' 'I-BET-762' 'RVX-208' 'OTX015' 'GSK343'\n",
      " 'ML323' 'Entospletinib' 'PRT062607' 'Ribociclib' 'AGI-6780'\n",
      " 'Picolinici-acid' 'AZD5153' 'CDK9_5576' 'CDK9_5038' 'Eg5_9814' 'ERK_2440'\n",
      " 'ERK_6604' 'IRAK4_4710' 'JAK1_8709' 'AZD5991' 'PAK_5339' 'TAF1_5496'\n",
      " 'ULK1_4989' 'VSP34_8731' 'IGF1R_3801' 'JAK_8517' 'GSK2256098C'\n",
      " 'GSK2276186C' 'GSK2110183B' 'GSK626616AC' 'GSK3337463A' 'GSK2830371A'\n",
      " 'LMB_AB1' 'LMB_AB2' 'LMB_AB3' 'AZD4547' 'Ibrutinib' 'Zoledronate'\n",
      " 'Acetalax' 'Carmustine' 'Topotecan' 'Teniposide' 'Mitoxantrone'\n",
      " 'Dactinomycin' 'Bleomycin' 'Fludarabine' 'Nelarabine' 'Dacarbazine'\n",
      " 'Romidepsin' 'Vincristine' '123829' '765771' '123138'\n",
      " 'Podophyllotoxin bromide' '50869' 'Dihydrorotenone' '720427' '667880'\n",
      " 'Gallibiscoquinazole' 'L-Oxonoreleagnine' '729189' '741909' '743380'\n",
      " 'Elephantin' '150412' 'Sinularin' '615590' '630600' 'LMP744' '776928'\n",
      " 'Schweinfurthin A' 'BEN' 'Sabutoclax' 'LY2109761' 'OF-1' 'MN-64'\n",
      " 'KRAS (G12C) Inhibitor-12' 'MG-132' 'BDP-00009066' 'Buparlisib'\n",
      " 'Ulixertinib' 'Venetoclax' 'ABT737' 'Afuresertib' 'AGI-5198' 'AZD3759'\n",
      " 'AZD5363' 'AZD6738' 'AZD8186' 'Osimertinib' 'Cediranib' 'Ipatasertib'\n",
      " 'GDC0810' 'GNE-317' 'GSK2578215A' 'I-BRD9' 'Telomerase Inhibitor IX'\n",
      " 'MIRA-1' 'NVP-ADW742' 'P22077' 'Savolitinib' 'UMI-77' 'WIKI4'\n",
      " 'Sepantronium bromide' 'MIM1' 'WEHI-539' 'BPD-00008900' 'N25720-51-A1'\n",
      " 'N27922-53-1' 'N30652-18-1' 'N29087-69-1' 'HKMTI-1-005' 'ICL-SIRT078'\n",
      " 'UNC0638' 'AGK2' 'Foretinib' 'BIBR-1532' 'Pyridostatin' 'AMG-319'\n",
      " 'MK-8776' 'Vinorelbine' 'Mycophenolic acid' 'Remodelin' 'VX-11e' 'LJI308'\n",
      " 'AZ6102' 'GSK591' 'VE821' 'VTP-A' 'VTP-B' 'PBD-288' 'POMHEX' 'CT7033-2'\n",
      " 'GSK-LSD1-2HCl ' '5-azacytidine' 'A-366' 'CPI-637' 'UNC0379' 'AZD6482'\n",
      " 'AT13148' 'BMS-754807' 'JQ1' 'PFI-1' 'IOX2' 'CHIR-99021' 'SGC0946'\n",
      " 'GSK2830371' 'THR-101' 'THR-102' 'THR-103' 'ascorbate (vitamin C)'\n",
      " 'glutathione' 'alpha-lipoic acid' 'N-acetyl cysteine']\n"
     ]
    }
   ],
   "source": [
    "drug_names = df['drug_name'].unique()\n",
    "print(drug_names)"
   ]
  },
  {
   "cell_type": "code",
   "execution_count": null,
   "id": "4dbc0e73",
   "metadata": {},
   "outputs": [],
   "source": []
  }
 ],
 "metadata": {
  "kernelspec": {
   "display_name": "Python 3",
   "language": "python",
   "name": "python3"
  },
  "language_info": {
   "codemirror_mode": {
    "name": "ipython",
    "version": 3
   },
   "file_extension": ".py",
   "mimetype": "text/x-python",
   "name": "python",
   "nbconvert_exporter": "python",
   "pygments_lexer": "ipython3",
   "version": "3.12.8"
  }
 },
 "nbformat": 4,
 "nbformat_minor": 5
}
