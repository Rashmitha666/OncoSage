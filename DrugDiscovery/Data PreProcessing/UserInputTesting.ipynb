{
 "cells": [
  {
   "cell_type": "code",
   "execution_count": 1,
   "id": "afbcae2a",
   "metadata": {},
   "outputs": [],
   "source": [
    "import joblib\n",
    "import pandas as pd\n",
    "import numpy as np"
   ]
  },
  {
   "cell_type": "code",
   "execution_count": 2,
   "id": "da810f78",
   "metadata": {},
   "outputs": [],
   "source": [
    "model = joblib.load(\"drug_response_model.pkl\")\n",
    "encoder = joblib.load(\"feature_encoder.pkl\")\n"
   ]
  },
  {
   "cell_type": "code",
   "execution_count": 3,
   "id": "8eada38d",
   "metadata": {},
   "outputs": [],
   "source": [
    "df = pd.read_csv(\"../Data/cleaned_data.csv\")\n"
   ]
  },
  {
   "cell_type": "code",
   "execution_count": 4,
   "id": "92fc083e",
   "metadata": {},
   "outputs": [
    {
     "name": "stdout",
     "output_type": "stream",
     "text": [
      "Drug: Mirin, Predicted IC50 effect size: 0.3279992640018463\n"
     ]
    }
   ],
   "source": [
    "user_df = pd.read_csv('../Data/user_input3.csv')\n",
    "\n",
    "key_cols = ['drug_target', 'target_pathway', 'feature_name']\n",
    "matched_rows = df.copy()\n",
    "\n",
    "for col in key_cols:\n",
    "    matched_rows = matched_rows[matched_rows[col] == user_df.at[0, col]]\n",
    "\n",
    "matched_drug_names = matched_rows['drug_name'].unique()\n",
    "\n",
    "categorical_cols = ['drug_target', 'target_pathway', 'feature_name', 'tissue_type', 'screening_set']\n",
    "numeric_cols = [col for col in user_df.columns if col not in categorical_cols]\n",
    "\n",
    "# ✅ Ensure proper format\n",
    "user_df[categorical_cols] = user_df[categorical_cols].fillna(\"missing\").astype(str)\n",
    "\n",
    "X_cat_user = encoder.transform(user_df[categorical_cols])\n",
    "X_num_user = user_df[numeric_cols].to_numpy()\n",
    "X_user = np.hstack((X_cat_user, X_num_user))\n",
    "\n",
    "predicted_ic50 = model.predict(X_user)[0]\n",
    "\n",
    "if len(matched_drug_names) == 0:\n",
    "    print(\"No matching drug name found for the given input.\")\n",
    "elif len(matched_drug_names) == 1:\n",
    "    print(f\"Drug: {matched_drug_names[0]}, Predicted IC50 effect size: {predicted_ic50}\")\n",
    "else:\n",
    "    print(f\"Drug: {matched_drug_names[0]}\")\n",
    "    print(f\"Multiple matching drug names found: {matched_drug_names}\")\n",
    "    print(f\"Predicted IC50 effect size: {predicted_ic50}\")\n"
   ]
  },
  {
   "cell_type": "code",
   "execution_count": null,
   "id": "641778fe",
   "metadata": {},
   "outputs": [],
   "source": []
  }
 ],
 "metadata": {
  "kernelspec": {
   "display_name": "Python 3",
   "language": "python",
   "name": "python3"
  },
  "language_info": {
   "codemirror_mode": {
    "name": "ipython",
    "version": 3
   },
   "file_extension": ".py",
   "mimetype": "text/x-python",
   "name": "python",
   "nbconvert_exporter": "python",
   "pygments_lexer": "ipython3",
   "version": "3.12.8"
  }
 },
 "nbformat": 4,
 "nbformat_minor": 5
}
