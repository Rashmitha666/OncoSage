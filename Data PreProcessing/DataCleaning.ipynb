{
 "cells": [
  {
   "cell_type": "code",
   "execution_count": 1,
   "id": "670e460c",
   "metadata": {},
   "outputs": [],
   "source": [
    "import pandas as pd"
   ]
  },
  {
   "cell_type": "code",
   "execution_count": 10,
   "id": "bc7f6a54",
   "metadata": {},
   "outputs": [],
   "source": [
    "patients_df = pd.read_csv(\"../Data/patients_details.csv\")"
   ]
  },
  {
   "cell_type": "code",
   "execution_count": 11,
   "id": "1fa4015c",
   "metadata": {},
   "outputs": [
    {
     "data": {
      "text/plain": [
       "<bound method NDFrame.head of                Study ID Patient ID          Sample ID   Age  \\\n",
       "0    lung_msk_mind_2020  P-0000239  P-0000239-T01-IM3  83.0   \n",
       "1    lung_msk_mind_2020  P-0000302  P-0000302-T01-IM3  67.0   \n",
       "2    lung_msk_mind_2020  P-0001987  P-0001987-T01-IM3  57.0   \n",
       "3    lung_msk_mind_2020  P-0002485  P-0002485-T01-IM3  43.0   \n",
       "4    lung_msk_mind_2020  P-0002794  P-0002794-T01-IM3  61.0   \n",
       "..                  ...        ...                ...   ...   \n",
       "242  lung_msk_mind_2020  P-0035638  P-0035638-T01-IM6  72.0   \n",
       "243  lung_msk_mind_2020  P-0039832  P-0039832-T01-IM6  75.0   \n",
       "244  lung_msk_mind_2020  P-0040848  P-0040848-T01-IM6  70.0   \n",
       "245  lung_msk_mind_2020  P-0044186  P-0044186-T01-IM6  65.0   \n",
       "246  lung_msk_mind_2020  P-0045298  P-0045298-T01-IM6  74.0   \n",
       "\n",
       "    Age at Which Sequencing was Reported (Years)  Albumin ALK driver  \\\n",
       "0                                             82      3.0      False   \n",
       "1                                             66      4.0      False   \n",
       "2                                             55      4.3      False   \n",
       "3                                             45      4.7      False   \n",
       "4                                             61      4.2      False   \n",
       "..                                           ...      ...        ...   \n",
       "242                                           73      3.4      False   \n",
       "243                                           76      3.4      False   \n",
       "244                                           71      3.5      False   \n",
       "245                                           68      4.1      False   \n",
       "246                                           77      3.6      False   \n",
       "\n",
       "    ALK protein change ARID1A driver ARID1A protein change  ...  \\\n",
       "0                  NaN         False                   NaN  ...   \n",
       "1                  NaN         False                   NaN  ...   \n",
       "2                  NaN         False                   NaN  ...   \n",
       "3                  NaN         False                   NaN  ...   \n",
       "4                  NaN         False                   NaN  ...   \n",
       "..                 ...           ...                   ...  ...   \n",
       "242                NaN         False                   NaN  ...   \n",
       "243                NaN         False                   NaN  ...   \n",
       "244                NaN         False                   NaN  ...   \n",
       "245                NaN         False                   NaN  ...   \n",
       "246                NaN          True   D1850Gfs*4 (driver)  ...   \n",
       "\n",
       "    Somatic Status    Status STK11 driver STK11 protein change   TMB  \\\n",
       "0          Matched  Excluded        False                  NaN   4.5   \n",
       "1          Matched  Excluded        False                  NaN   1.1   \n",
       "2          Matched  Included        False                  NaN  26.8   \n",
       "3          Matched  Included        False                  NaN   3.3   \n",
       "4        Unmatched  Included        False                  NaN   1.1   \n",
       "..             ...       ...          ...                  ...   ...   \n",
       "242        Matched  Included        False                  NaN  13.2   \n",
       "243        Matched  Included        False                  NaN  12.3   \n",
       "244        Matched  Included        False                  NaN   5.3   \n",
       "245        Matched  Included        False                  NaN  12.3   \n",
       "246        Matched  Included        False                  NaN  29.8   \n",
       "\n",
       "     TMB (nonsynonymous) Tumor Purity Treatment Setting  \\\n",
       "0               4.436621         30.0               SOC   \n",
       "1               1.109155         30.0               SOC   \n",
       "2              26.619727         30.0               SOC   \n",
       "3               3.327466          NaN    Clinical trial   \n",
       "4               1.109155         20.0               SOC   \n",
       "..                   ...          ...               ...   \n",
       "242            12.970471         80.0               SOC   \n",
       "243            12.105773         30.0               SOC   \n",
       "244             5.188189         50.0               SOC   \n",
       "245            12.105773         40.0               SOC   \n",
       "246            29.399735          NaN               SOC   \n",
       "\n",
       "    Is the patient deceased?  Mutations  \n",
       "0                        Yes        NaN  \n",
       "1                         No       BRAF  \n",
       "2                         No        NaN  \n",
       "3                        Yes        NaN  \n",
       "4                         No        NaN  \n",
       "..                       ...        ...  \n",
       "242                      Yes        NaN  \n",
       "243                       No        NaN  \n",
       "244                       No        NaN  \n",
       "245                       No        NaN  \n",
       "246                       No     ARID1A  \n",
       "\n",
       "[247 rows x 79 columns]>"
      ]
     },
     "execution_count": 11,
     "metadata": {},
     "output_type": "execute_result"
    }
   ],
   "source": [
    "patients_df.head"
   ]
  },
  {
   "cell_type": "code",
   "execution_count": 12,
   "id": "676a68ac",
   "metadata": {},
   "outputs": [],
   "source": [
    "drug_predictions_df = pd.read_csv(\"../Data/drug_predictions.csv\")"
   ]
  },
  {
   "cell_type": "code",
   "execution_count": null,
   "id": "45c9abd9",
   "metadata": {},
   "outputs": [],
   "source": [
    "selected_columns = [\n",
    "    'Age',\n",
    "    'Cancer Type',\n",
    "    'Clinically reported PD-L1 score',\n",
    "    'TMB',\n",
    "    'EGFR driver',\n",
    "    'ALK driver',\n",
    "    'BRAF driver',\n",
    "    'Mutation Count',\n",
    "    'Tumor Purity',\n",
    "    'IO drug name'\n",
    "]"
   ]
  },
  {
   "cell_type": "code",
   "execution_count": 18,
   "id": "bd5c1c39",
   "metadata": {},
   "outputs": [],
   "source": [
    "filtered_patients = patients_df[selected_columns].dropna()"
   ]
  },
  {
   "cell_type": "code",
   "execution_count": null,
   "id": "5b623e23",
   "metadata": {},
   "outputs": [],
   "source": []
  }
 ],
 "metadata": {
  "kernelspec": {
   "display_name": "Python 3",
   "language": "python",
   "name": "python3"
  },
  "language_info": {
   "codemirror_mode": {
    "name": "ipython",
    "version": 3
   },
   "file_extension": ".py",
   "mimetype": "text/x-python",
   "name": "python",
   "nbconvert_exporter": "python",
   "pygments_lexer": "ipython3",
   "version": "3.12.8"
  }
 },
 "nbformat": 4,
 "nbformat_minor": 5
}
